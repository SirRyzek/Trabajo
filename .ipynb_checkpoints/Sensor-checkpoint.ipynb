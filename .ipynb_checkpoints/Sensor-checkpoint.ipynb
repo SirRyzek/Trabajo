{
 "cells": [
  {
   "cell_type": "code",
   "execution_count": 122,
   "metadata": {},
   "outputs": [],
   "source": [
    "class Sensor():\n",
    "    \n",
    "    def __init__(self, tipo_sensor, puerto, receptor, emisor):\n",
    "        self.tipo_sensor = tipo_sensor\n",
    "        self.__puerto = puerto\n",
    "        self.receptor = receptor\n",
    "        self.emisor = emisor\n",
    "        self.estado = False \n",
    "        \n",
    "    def __verConIniciales(self):\n",
    "        if self.estado==True:\n",
    "            return True\n",
    "        else:\n",
    "            return False\n",
    "        \n",
    "    def leer(self):\n",
    "        if self.estado == False:\n",
    "            print(\"Leer el sensor \" + str(self.__puerto))\n",
    "            self.estado = True\n",
    "        else:\n",
    "            print(\"No se muetra el puerto\")\n",
    "            \n",
    "    def calibrar(self):\n",
    "        if self.__verConIniciales()==True:\n",
    "            self.receptor='20'\n",
    "        else:\n",
    "            print(\"No se cumplen las condiciones iniciales\")\n",
    "        \n",
    "    def resetear(self):\n",
    "        print(\"Resetar\")\n",
    "        "
   ]
  },
  {
   "cell_type": "code",
   "execution_count": 123,
   "metadata": {},
   "outputs": [],
   "source": [
    "miSensor=Sensor('D','80','10','50')"
   ]
  },
  {
   "cell_type": "code",
   "execution_count": null,
   "metadata": {},
   "outputs": [],
   "source": []
  },
  {
   "cell_type": "code",
   "execution_count": 124,
   "metadata": {},
   "outputs": [
    {
     "name": "stdout",
     "output_type": "stream",
     "text": [
      "Leer el sensor 80\n"
     ]
    }
   ],
   "source": [
    "miSensor.leer()\n"
   ]
  },
  {
   "cell_type": "markdown",
   "metadata": {},
   "source": [
    "miSensor.calibrar()"
   ]
  },
  {
   "cell_type": "code",
   "execution_count": 125,
   "metadata": {},
   "outputs": [],
   "source": [
    "miSensor.calibrar()"
   ]
  },
  {
   "cell_type": "code",
   "execution_count": null,
   "metadata": {},
   "outputs": [],
   "source": []
  }
 ],
 "metadata": {
  "kernelspec": {
   "display_name": "Python 3",
   "language": "python",
   "name": "python3"
  },
  "language_info": {
   "codemirror_mode": {
    "name": "ipython",
    "version": 3
   },
   "file_extension": ".py",
   "mimetype": "text/x-python",
   "name": "python",
   "nbconvert_exporter": "python",
   "pygments_lexer": "ipython3",
   "version": "3.7.1"
  }
 },
 "nbformat": 4,
 "nbformat_minor": 2
}
