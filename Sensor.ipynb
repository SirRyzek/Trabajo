{
 "cells": [
  {
   "cell_type": "code",
   "execution_count": 12,
   "metadata": {},
   "outputs": [],
   "source": [
    "class Sensor():\n",
    "    \n",
    "    def __init__(self, tipo_sensor, puerto, receptor, emisor):\n",
    "        self.tipo_sensor = tipo_sensor\n",
    "        self.__puerto = puerto\n",
    "        self.receptor = receptor\n",
    "        self.emisor = emisor\n",
    "        self.estado = False \n",
    "        self.encendido = False \n",
    "     \n",
    "    def encender(self):\n",
    "        if self.encendido == False:\n",
    "            self.encendido = True\n",
    "    \n",
    "    def __verConIniciales(self):\n",
    "        if self.estado==True:\n",
    "            return True\n",
    "        else:\n",
    "            return False\n",
    "        \n",
    "    def leer(self):\n",
    "        if self.estado == False:\n",
    "            print(\"Leer el sensor \" + str(self.__puerto))\n",
    "            self.estado = True\n",
    "        else:\n",
    "            print(\"No se muetra el puerto\")\n",
    "            \n",
    "    def calibrar(self):\n",
    "        if self.__verConIniciales()==True:\n",
    "            self.receptor='20'\n",
    "        else:\n",
    "            print(\"No se cumplen las condiciones iniciales\")\n",
    "        \n",
    "    def resetear(self):\n",
    "        print(\"Resetar\")\n",
    "        "
   ]
  },
  {
   "cell_type": "code",
   "execution_count": 70,
   "metadata": {},
   "outputs": [],
   "source": [
    "class Recepcion():\n",
    "    def __init__ (self,dato):\n",
    "        self.dato = dato\n",
    "        \n",
    "        self.recibe = False\n",
    "        \n",
    "    def lectura(self):\n",
    "        print(self.dato)"
   ]
  },
  {
   "cell_type": "code",
   "execution_count": 71,
   "metadata": {},
   "outputs": [],
   "source": [
    "class sensorPh(Sensor,Recepcion):\n",
    "    calibracion = False\n",
    "    \n",
    "    def leer(self):\n",
    "        super().leer()\n",
    "        print(\"calibrando y midiendo\")\n",
    "   "
   ]
  },
  {
   "cell_type": "code",
   "execution_count": 72,
   "metadata": {},
   "outputs": [],
   "source": [
    "miSensor=sensorPh('D','80','10','50')"
   ]
  },
  {
   "cell_type": "code",
   "execution_count": 73,
   "metadata": {},
   "outputs": [
    {
     "name": "stdout",
     "output_type": "stream",
     "text": [
      "Leer el sensor 80\n",
      "calibrando y midiendo\n"
     ]
    }
   ],
   "source": [
    "miSensor.leer()"
   ]
  },
  {
   "cell_type": "code",
   "execution_count": 74,
   "metadata": {},
   "outputs": [],
   "source": [
    "miSensor1=Recepcion('20')"
   ]
  },
  {
   "cell_type": "code",
   "execution_count": 77,
   "metadata": {},
   "outputs": [
    {
     "ename": "AttributeError",
     "evalue": "'sensorPh' object has no attribute 'dato'",
     "output_type": "error",
     "traceback": [
      "\u001b[1;31m---------------------------------------------------------------------------\u001b[0m",
      "\u001b[1;31mAttributeError\u001b[0m                            Traceback (most recent call last)",
      "\u001b[1;32m<ipython-input-77-39a45feca4aa>\u001b[0m in \u001b[0;36m<module>\u001b[1;34m\u001b[0m\n\u001b[1;32m----> 1\u001b[1;33m \u001b[0mmiSensor\u001b[0m\u001b[1;33m.\u001b[0m\u001b[0mlectura\u001b[0m\u001b[1;33m(\u001b[0m\u001b[1;33m)\u001b[0m\u001b[1;33m\u001b[0m\u001b[1;33m\u001b[0m\u001b[0m\n\u001b[0m",
      "\u001b[1;32m<ipython-input-70-3a0980e014c7>\u001b[0m in \u001b[0;36mlectura\u001b[1;34m(self)\u001b[0m\n\u001b[0;32m      6\u001b[0m \u001b[1;33m\u001b[0m\u001b[0m\n\u001b[0;32m      7\u001b[0m     \u001b[1;32mdef\u001b[0m \u001b[0mlectura\u001b[0m\u001b[1;33m(\u001b[0m\u001b[0mself\u001b[0m\u001b[1;33m)\u001b[0m\u001b[1;33m:\u001b[0m\u001b[1;33m\u001b[0m\u001b[1;33m\u001b[0m\u001b[0m\n\u001b[1;32m----> 8\u001b[1;33m         \u001b[0mprint\u001b[0m\u001b[1;33m(\u001b[0m\u001b[0mself\u001b[0m\u001b[1;33m.\u001b[0m\u001b[0mdato\u001b[0m\u001b[1;33m)\u001b[0m\u001b[1;33m\u001b[0m\u001b[1;33m\u001b[0m\u001b[0m\n\u001b[0m",
      "\u001b[1;31mAttributeError\u001b[0m: 'sensorPh' object has no attribute 'dato'"
     ]
    }
   ],
   "source": [
    "miSensor.lectura()"
   ]
  },
  {
   "cell_type": "code",
   "execution_count": null,
   "metadata": {},
   "outputs": [],
   "source": []
  }
 ],
 "metadata": {
  "kernelspec": {
   "display_name": "Python 3",
   "language": "python",
   "name": "python3"
  },
  "language_info": {
   "codemirror_mode": {
    "name": "ipython",
    "version": 3
   },
   "file_extension": ".py",
   "mimetype": "text/x-python",
   "name": "python",
   "nbconvert_exporter": "python",
   "pygments_lexer": "ipython3",
   "version": "3.7.1"
  }
 },
 "nbformat": 4,
 "nbformat_minor": 2
}
