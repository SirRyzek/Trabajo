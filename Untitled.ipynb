{
 "cells": [
  {
   "cell_type": "code",
   "execution_count": 2,
   "metadata": {},
   "outputs": [
    {
     "name": "stdout",
     "output_type": "stream",
     "text": [
      "hola mundo\n"
     ]
    }
   ],
   "source": [
    "nombre = \"hola mundo\"\n",
    "\n",
    "print(nombre)"
   ]
  },
  {
   "cell_type": "code",
   "execution_count": 34,
   "metadata": {},
   "outputs": [],
   "source": [
    "class fraccion:\n",
    "    def __init__(self,num=0,den=1):\n",
    "        self.num=num\n",
    "        self.den=den\n",
    "        \n",
    "    def __str__(self):\n",
    "        return(str(self.num)+\"/\"+str(self.den))\n",
    "    \n",
    "    def mult(self,f):\n",
    "        num= self.num * f.num\n",
    "        den= self.den * f.den\n",
    "        return fraccion(num,den)\n",
    "        \n",
    "    def imprimir(self):\n",
    "        print(str(self.num)+\"/\"+str(self.den))"
   ]
  },
  {
   "cell_type": "code",
   "execution_count": 37,
   "metadata": {},
   "outputs": [],
   "source": [
    "a=fraccion(3,4)\n",
    "b=fraccion(5,2)"
   ]
  },
  {
   "cell_type": "code",
   "execution_count": 39,
   "metadata": {},
   "outputs": [
    {
     "name": "stdout",
     "output_type": "stream",
     "text": [
      "3/4\n",
      "15/8\n"
     ]
    }
   ],
   "source": [
    "a.imprimir()\n",
    "print(a.mult(b))"
   ]
  },
  {
   "cell_type": "code",
   "execution_count": null,
   "metadata": {},
   "outputs": [],
   "source": []
  }
 ],
 "metadata": {
  "kernelspec": {
   "display_name": "Python 3",
   "language": "python",
   "name": "python3"
  },
  "language_info": {
   "codemirror_mode": {
    "name": "ipython",
    "version": 3
   },
   "file_extension": ".py",
   "mimetype": "text/x-python",
   "name": "python",
   "nbconvert_exporter": "python",
   "pygments_lexer": "ipython3",
   "version": "3.7.1"
  }
 },
 "nbformat": 4,
 "nbformat_minor": 2
}
